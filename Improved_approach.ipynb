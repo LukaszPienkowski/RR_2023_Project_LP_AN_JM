{
 "cells": [
  {
   "attachments": {},
   "cell_type": "markdown",
   "metadata": {},
   "source": [
    "# 1 Introduction\n",
    "\n",
    "There are three parts to our script as follows:\n",
    "\n",
    "* Feature engineering\n",
    "* Missing value imputation\n",
    "* Prediction!\n",
    "\n",
    "## 1.1 Setting up the environment"
   ]
  },
  {
   "cell_type": "code",
   "execution_count": 1,
   "metadata": {},
   "outputs": [],
   "source": [
    "# Import packages\n",
    "\n",
    "import matplotlib.pyplot as plt\n",
    "import missingno as msno\n",
    "import numpy as np\n",
    "import pandas as pd\n",
    "import seaborn as sns\n",
    "from CustomDataFrame import CustomDataFrame\n",
    "from sklearn.ensemble import RandomForestClassifier\n",
    "from sklearn.impute import SimpleImputer\n",
    "from sklearn.model_selection import train_test_split\n",
    "from statsmodels.graphics.mosaicplot import mosaic\n",
    "from tabulate import tabulate"
   ]
  },
  {
   "cell_type": "code",
   "execution_count": 2,
   "metadata": {},
   "outputs": [],
   "source": [
    "# Set figsize for plots\n",
    "plt.rcParams['figure.figsize'] = (8, 5)\n",
    "\n",
    "# Set random state\n",
    "random_state = 754"
   ]
  },
  {
   "attachments": {},
   "cell_type": "markdown",
   "metadata": {},
   "source": [
    "## 1.2 Loading data\n",
    "\n",
    "Now that our packages are loaded, let’s read in and take a peek at the data."
   ]
  },
  {
   "cell_type": "code",
   "execution_count": 3,
   "metadata": {},
   "outputs": [],
   "source": [
    "# Read data\n",
    "train = pd.read_csv('input/train.csv')\n",
    "test = pd.read_csv('input/test.csv')\n",
    "\n",
    "# Concatenate training & test data\n",
    "full = pd.concat([train, test], ignore_index=True)"
   ]
  },
  {
   "attachments": {},
   "cell_type": "markdown",
   "metadata": {},
   "source": [
    "Authors here use df.info() method to print out the most important info about the data. That approach however does not make it easy to see clearly which columns have missing values that have to be taken care of.   \n",
    "For this purpose, a class `CustomDataFrame` is created, that lists Null Count, instead of Non-Null:"
   ]
  },
  {
   "cell_type": "code",
   "execution_count": 4,
   "metadata": {},
   "outputs": [
    {
     "name": "stdout",
     "output_type": "stream",
     "text": [
      "Rows: 1309, Columns: 12\n",
      "\n",
      "+---------------+-------------+--------------+\n",
      "| Column Name   | Data Type   | Null Count   |\n",
      "|---------------+-------------+--------------|\n",
      "| PassengerId   | int64       | 0 (0.0%)     |\n",
      "| Survived      | float64     | 418 (31.9%)  |\n",
      "| Pclass        | int64       | 0 (0.0%)     |\n",
      "| Name          | object      | 0 (0.0%)     |\n",
      "| Sex           | object      | 0 (0.0%)     |\n",
      "| Age           | float64     | 263 (20.1%)  |\n",
      "| SibSp         | int64       | 0 (0.0%)     |\n",
      "| Parch         | int64       | 0 (0.0%)     |\n",
      "| Ticket        | object      | 0 (0.0%)     |\n",
      "| Fare          | float64     | 1 (0.1%)     |\n",
      "| Cabin         | object      | 1014 (77.5%) |\n",
      "| Embarked      | object      | 2 (0.2%)     |\n",
      "+---------------+-------------+--------------+\n"
     ]
    }
   ],
   "source": [
    "# Custom DataFrame info\n",
    "print(CustomDataFrame(full))"
   ]
  },
  {
   "attachments": {},
   "cell_type": "markdown",
   "metadata": {},
   "source": [
    "As we can see, columns containing missing values are:  \n",
    "* Survived (**y** variable)\n",
    "* Age\n",
    "* Fare\n",
    "* Cabin\n",
    "* Embarked\n",
    "\n",
    "The column **Cabin** contains 77.5% missing values, so there is no smart way to impute 3/4 of missing values, column has to be dropped altogether.     \n",
    "However, the **Survived** variable contains missing values as well. They cannot be imputed as well, because doing so will lead to some bias in the data, making them more noisy or causing some sort of target leakage, depending on the chosen imputation method.    \n",
    "Other variables can be imputed because of the low frequency of Nulls, but first of all, all missing **Survived** observations has to be removed before any other feature engineering."
   ]
  },
  {
   "cell_type": "code",
   "execution_count": 5,
   "metadata": {},
   "outputs": [
    {
     "name": "stdout",
     "output_type": "stream",
     "text": [
      "Rows: 891, Columns: 12\n",
      "\n",
      "+---------------+-------------+--------------+\n",
      "| Column Name   | Data Type   | Null Count   |\n",
      "|---------------+-------------+--------------|\n",
      "| PassengerId   | int64       | 0 (0.0%)     |\n",
      "| Survived      | float64     | 0 (0.0%)     |\n",
      "| Pclass        | int64       | 0 (0.0%)     |\n",
      "| Name          | object      | 0 (0.0%)     |\n",
      "| Sex           | object      | 0 (0.0%)     |\n",
      "| Age           | float64     | 177 (19.9%)  |\n",
      "| SibSp         | int64       | 0 (0.0%)     |\n",
      "| Parch         | int64       | 0 (0.0%)     |\n",
      "| Ticket        | object      | 0 (0.0%)     |\n",
      "| Fare          | float64     | 0 (0.0%)     |\n",
      "| Cabin         | object      | 687 (77.1%)  |\n",
      "| Embarked      | object      | 2 (0.2%)     |\n",
      "+---------------+-------------+--------------+\n"
     ]
    }
   ],
   "source": [
    "full = full.loc[~full['Survived'].isna()]\n",
    "\n",
    "print(CustomDataFrame(full))"
   ]
  },
  {
   "attachments": {},
   "cell_type": "markdown",
   "metadata": {},
   "source": [
    "Now we have only 891 observations, but missing values are now in columns:\n",
    "* Age\n",
    "* Cabin\n",
    "* Embarked\n",
    "\n",
    "The one missing value from **Fare** has been dropped by removing null **Survived**.  \n",
    "Contrary to the original Notebook, that created a **Deck** variable out of **Cabin**, here the **Cabin** is dropped.  \n",
    "**Age** and **Embarked** columns will have their values imputed by their medians (**Age**) or most frequent value (**Embarked**)."
   ]
  },
  {
   "cell_type": "code",
   "execution_count": 6,
   "metadata": {},
   "outputs": [
    {
     "name": "stdout",
     "output_type": "stream",
     "text": [
      "Rows: 891, Columns: 11\n",
      "\n",
      "+---------------+-------------+--------------+\n",
      "| Column Name   | Data Type   | Null Count   |\n",
      "|---------------+-------------+--------------|\n",
      "| PassengerId   | int64       | 0 (0.0%)     |\n",
      "| Survived      | float64     | 0 (0.0%)     |\n",
      "| Pclass        | int64       | 0 (0.0%)     |\n",
      "| Name          | object      | 0 (0.0%)     |\n",
      "| Sex           | object      | 0 (0.0%)     |\n",
      "| Age           | object      | 0 (0.0%)     |\n",
      "| SibSp         | int64       | 0 (0.0%)     |\n",
      "| Parch         | int64       | 0 (0.0%)     |\n",
      "| Ticket        | object      | 0 (0.0%)     |\n",
      "| Fare          | float64     | 0 (0.0%)     |\n",
      "| Embarked      | object      | 0 (0.0%)     |\n",
      "+---------------+-------------+--------------+\n"
     ]
    }
   ],
   "source": [
    "# Drop the Cabin columns\n",
    "full.drop('Cabin', axis = 1, inplace = True)\n",
    "\n",
    "# Define the variables to impute\n",
    "variables_to_impute = ['Age', 'Embarked']\n",
    "\n",
    "# Perform SimpleImputation on defined variables\n",
    "imputer = SimpleImputer(strategy='most_frequent')\n",
    "imputed_values = imputer.fit_transform(full[variables_to_impute])\n",
    "\n",
    "# Crate a DataFrame with new values\n",
    "imputed_df = pd.DataFrame(imputed_values, columns = variables_to_impute)\n",
    "\n",
    "# Impute the missing values\n",
    "full.loc[:, variables_to_impute] = full.loc[:, variables_to_impute].fillna(imputed_df)\n",
    "\n",
    "# Print new DataFrame info\n",
    "print(CustomDataFrame(full))"
   ]
  }
 ],
 "metadata": {
  "kernelspec": {
   "display_name": "RR",
   "language": "python",
   "name": "python3"
  },
  "language_info": {
   "codemirror_mode": {
    "name": "ipython",
    "version": 3
   },
   "file_extension": ".py",
   "mimetype": "text/x-python",
   "name": "python",
   "nbconvert_exporter": "python",
   "pygments_lexer": "ipython3",
   "version": "3.9.6"
  },
  "orig_nbformat": 4
 },
 "nbformat": 4,
 "nbformat_minor": 2
}
