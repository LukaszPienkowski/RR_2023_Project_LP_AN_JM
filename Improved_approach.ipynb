{
 "cells": [
  {
   "attachments": {},
   "cell_type": "markdown",
   "metadata": {},
   "source": [
    "# 1 Introduction\n",
    "\n",
    "There are three parts to our script as follows:\n",
    "\n",
    "* Feature engineering\n",
    "* Missing value imputation\n",
    "* Prediction!\n",
    "\n",
    "## 1.1 Setting up the environment"
   ]
  },
  {
   "cell_type": "code",
   "execution_count": 1,
   "metadata": {},
   "outputs": [],
   "source": [
    "# Import packages\n",
    "\n",
    "import matplotlib.pyplot as plt\n",
    "import missingno as msno\n",
    "import numpy as np\n",
    "import pandas as pd\n",
    "import seaborn as sns\n",
    "from CustomDataFrame import CustomDataFrame\n",
    "from sklearn.ensemble import RandomForestClassifier\n",
    "from sklearn.impute import SimpleImputer\n",
    "from sklearn.metrics import accuracy_score\n",
    "from sklearn.model_selection import cross_val_score\n",
    "from statsmodels.graphics.mosaicplot import mosaic\n",
    "from tabulate import tabulate"
   ]
  },
  {
   "cell_type": "code",
   "execution_count": 2,
   "metadata": {},
   "outputs": [],
   "source": [
    "# Set figsize for plots\n",
    "plt.rcParams['figure.figsize'] = (8, 5)\n",
    "\n",
    "# Set random state\n",
    "random_state = 754"
   ]
  },
  {
   "attachments": {},
   "cell_type": "markdown",
   "metadata": {},
   "source": [
    "## 1.2 Loading data\n",
    "\n",
    "Now that our packages are loaded, let’s read in and take a peek at the data."
   ]
  },
  {
   "cell_type": "code",
   "execution_count": 3,
   "metadata": {},
   "outputs": [],
   "source": [
    "# Read data\n",
    "train = pd.read_csv('input/train.csv')\n",
    "test = pd.read_csv('input/test.csv')\n",
    "\n",
    "# Concatenate training & test data\n",
    "full = pd.concat([train, test], ignore_index=True)"
   ]
  },
  {
   "attachments": {},
   "cell_type": "markdown",
   "metadata": {},
   "source": [
    "Authors here use df.info() method to print out the most important info about the data. That approach however does not make it easy to see clearly which columns have missing values that have to be taken care of.   \n",
    "For this purpose, a class `CustomDataFrame` is created, that lists Null Count, instead of Non-Null:"
   ]
  },
  {
   "cell_type": "code",
   "execution_count": 4,
   "metadata": {},
   "outputs": [
    {
     "name": "stdout",
     "output_type": "stream",
     "text": [
      "Rows: 1309, Columns: 12\n",
      "\n",
      "+---------------+-------------+--------------+\n",
      "| Column Name   | Data Type   | Null Count   |\n",
      "|---------------+-------------+--------------|\n",
      "| PassengerId   | int64       | 0 (0.0%)     |\n",
      "| Survived      | float64     | 418 (31.9%)  |\n",
      "| Pclass        | int64       | 0 (0.0%)     |\n",
      "| Name          | object      | 0 (0.0%)     |\n",
      "| Sex           | object      | 0 (0.0%)     |\n",
      "| Age           | float64     | 263 (20.1%)  |\n",
      "| SibSp         | int64       | 0 (0.0%)     |\n",
      "| Parch         | int64       | 0 (0.0%)     |\n",
      "| Ticket        | object      | 0 (0.0%)     |\n",
      "| Fare          | float64     | 1 (0.1%)     |\n",
      "| Cabin         | object      | 1014 (77.5%) |\n",
      "| Embarked      | object      | 2 (0.2%)     |\n",
      "+---------------+-------------+--------------+\n"
     ]
    }
   ],
   "source": [
    "# Custom DataFrame info\n",
    "print(CustomDataFrame(full))"
   ]
  },
  {
   "attachments": {},
   "cell_type": "markdown",
   "metadata": {},
   "source": [
    "As we can see, columns containing missing values are:  \n",
    "* Survived (**y** variable)\n",
    "* Age\n",
    "* Fare\n",
    "* Cabin\n",
    "* Embarked\n",
    "\n",
    "The column **Cabin** contains 77.5% missing values, so there is no smart way to impute 3/4 of missing values, column has to be dropped altogether.     \n",
    "However, the **Survived** variable contains missing values as well. They cannot be imputed as well, because doing so will lead to some bias in the data, making them more noisy or causing some sort of target leakage, depending on the chosen imputation method.    \n",
    "Other variables can be imputed because of the low frequency of Nulls, but first of all, all missing **Survived** observations has to be removed before any other feature engineering."
   ]
  },
  {
   "cell_type": "code",
   "execution_count": 5,
   "metadata": {},
   "outputs": [
    {
     "name": "stdout",
     "output_type": "stream",
     "text": [
      "Rows: 891, Columns: 12\n",
      "\n",
      "+---------------+-------------+--------------+\n",
      "| Column Name   | Data Type   | Null Count   |\n",
      "|---------------+-------------+--------------|\n",
      "| PassengerId   | int64       | 0 (0.0%)     |\n",
      "| Survived      | float64     | 0 (0.0%)     |\n",
      "| Pclass        | int64       | 0 (0.0%)     |\n",
      "| Name          | object      | 0 (0.0%)     |\n",
      "| Sex           | object      | 0 (0.0%)     |\n",
      "| Age           | float64     | 177 (19.9%)  |\n",
      "| SibSp         | int64       | 0 (0.0%)     |\n",
      "| Parch         | int64       | 0 (0.0%)     |\n",
      "| Ticket        | object      | 0 (0.0%)     |\n",
      "| Fare          | float64     | 0 (0.0%)     |\n",
      "| Cabin         | object      | 687 (77.1%)  |\n",
      "| Embarked      | object      | 2 (0.2%)     |\n",
      "+---------------+-------------+--------------+\n"
     ]
    }
   ],
   "source": [
    "full = full.loc[~full['Survived'].isna()]\n",
    "\n",
    "print(CustomDataFrame(full))"
   ]
  },
  {
   "attachments": {},
   "cell_type": "markdown",
   "metadata": {},
   "source": [
    "Now we have only 891 observations, but missing values are now in columns:\n",
    "* Age\n",
    "* Cabin\n",
    "* Embarked\n",
    "\n",
    "The one missing value from **Fare** has been dropped by removing null **Survived**.  \n",
    "Contrary to the original Notebook, that created a **Deck** variable out of **Cabin**, here the **Cabin** is dropped.  \n",
    "**Age** and **Embarked** columns will have their values imputed by their medians (**Age**) or most frequent value (**Embarked**).  \n",
    "  \n",
    "The key difference is the imputation method. Authors use a predictive imputation method, which sounds like a good idea, but maybe not in this dataset. Author's approach is really messy, feature engineering process leaves many legacy columns in the data, increasing the computation complexity.  \n",
    "Another point is that author tried to impute a column with more than 3/4 values missing, while the best idea would be to drop it.  \n",
    "Finally, author uses predictive imputation with Random Forest Regression without stating the random state, making the process not possible to reproduce fully. Our approach, on the other hand, does not contain any randomness, so it's easily reproducible."
   ]
  },
  {
   "cell_type": "code",
   "execution_count": 6,
   "metadata": {},
   "outputs": [
    {
     "name": "stdout",
     "output_type": "stream",
     "text": [
      "Rows: 891, Columns: 11\n",
      "\n",
      "+---------------+-------------+--------------+\n",
      "| Column Name   | Data Type   | Null Count   |\n",
      "|---------------+-------------+--------------|\n",
      "| PassengerId   | int64       | 0 (0.0%)     |\n",
      "| Survived      | float64     | 0 (0.0%)     |\n",
      "| Pclass        | int64       | 0 (0.0%)     |\n",
      "| Name          | object      | 0 (0.0%)     |\n",
      "| Sex           | object      | 0 (0.0%)     |\n",
      "| Age           | object      | 0 (0.0%)     |\n",
      "| SibSp         | int64       | 0 (0.0%)     |\n",
      "| Parch         | int64       | 0 (0.0%)     |\n",
      "| Ticket        | object      | 0 (0.0%)     |\n",
      "| Fare          | float64     | 0 (0.0%)     |\n",
      "| Embarked      | object      | 0 (0.0%)     |\n",
      "+---------------+-------------+--------------+\n"
     ]
    }
   ],
   "source": [
    "# Drop the Cabin columns\n",
    "full.drop('Cabin', axis = 1, inplace = True)\n",
    "\n",
    "# Define the variables to impute\n",
    "variables_to_impute = ['Age', 'Embarked']\n",
    "\n",
    "# Perform SimpleImputation on defined variables\n",
    "imputer = SimpleImputer(strategy='most_frequent')\n",
    "imputed_values = imputer.fit_transform(full[variables_to_impute])\n",
    "\n",
    "# Crate a DataFrame with new values\n",
    "imputed_df = pd.DataFrame(imputed_values, columns = variables_to_impute)\n",
    "\n",
    "# Impute the missing values\n",
    "full.loc[:, variables_to_impute] = full.loc[:, variables_to_impute].fillna(imputed_df)\n",
    "\n",
    "# Print new DataFrame info\n",
    "print(CustomDataFrame(full))"
   ]
  },
  {
   "attachments": {},
   "cell_type": "markdown",
   "metadata": {},
   "source": [
    "# 2 Feature Engineering\n",
    "\n",
    "## 2.1 PassengerId\n",
    "\n",
    "That column does not carry any prediction power, it is simply the row index + 1. It is dropped entirely."
   ]
  },
  {
   "cell_type": "code",
   "execution_count": 7,
   "metadata": {},
   "outputs": [],
   "source": [
    "full.drop('PassengerId', axis = 1, inplace = True)"
   ]
  },
  {
   "attachments": {},
   "cell_type": "markdown",
   "metadata": {},
   "source": [
    "## 2.2 What’s in a name?"
   ]
  },
  {
   "cell_type": "code",
   "execution_count": 8,
   "metadata": {},
   "outputs": [
    {
     "data": {
      "text/html": [
       "<div>\n",
       "<style scoped>\n",
       "    .dataframe tbody tr th:only-of-type {\n",
       "        vertical-align: middle;\n",
       "    }\n",
       "\n",
       "    .dataframe tbody tr th {\n",
       "        vertical-align: top;\n",
       "    }\n",
       "\n",
       "    .dataframe thead th {\n",
       "        text-align: right;\n",
       "    }\n",
       "</style>\n",
       "<table border=\"1\" class=\"dataframe\">\n",
       "  <thead>\n",
       "    <tr style=\"text-align: right;\">\n",
       "      <th>Title</th>\n",
       "      <th>Capt</th>\n",
       "      <th>Col</th>\n",
       "      <th>Don</th>\n",
       "      <th>Dr</th>\n",
       "      <th>Jonkheer</th>\n",
       "      <th>Lady</th>\n",
       "      <th>Major</th>\n",
       "      <th>Master</th>\n",
       "      <th>Miss</th>\n",
       "      <th>Mlle</th>\n",
       "      <th>Mme</th>\n",
       "      <th>Mr</th>\n",
       "      <th>Mrs</th>\n",
       "      <th>Ms</th>\n",
       "      <th>Rev</th>\n",
       "      <th>Sir</th>\n",
       "      <th>the Countess</th>\n",
       "    </tr>\n",
       "    <tr>\n",
       "      <th>Sex</th>\n",
       "      <th></th>\n",
       "      <th></th>\n",
       "      <th></th>\n",
       "      <th></th>\n",
       "      <th></th>\n",
       "      <th></th>\n",
       "      <th></th>\n",
       "      <th></th>\n",
       "      <th></th>\n",
       "      <th></th>\n",
       "      <th></th>\n",
       "      <th></th>\n",
       "      <th></th>\n",
       "      <th></th>\n",
       "      <th></th>\n",
       "      <th></th>\n",
       "      <th></th>\n",
       "    </tr>\n",
       "  </thead>\n",
       "  <tbody>\n",
       "    <tr>\n",
       "      <th>female</th>\n",
       "      <td>0</td>\n",
       "      <td>0</td>\n",
       "      <td>0</td>\n",
       "      <td>1</td>\n",
       "      <td>0</td>\n",
       "      <td>1</td>\n",
       "      <td>0</td>\n",
       "      <td>0</td>\n",
       "      <td>182</td>\n",
       "      <td>2</td>\n",
       "      <td>1</td>\n",
       "      <td>0</td>\n",
       "      <td>125</td>\n",
       "      <td>1</td>\n",
       "      <td>0</td>\n",
       "      <td>0</td>\n",
       "      <td>1</td>\n",
       "    </tr>\n",
       "    <tr>\n",
       "      <th>male</th>\n",
       "      <td>1</td>\n",
       "      <td>2</td>\n",
       "      <td>1</td>\n",
       "      <td>6</td>\n",
       "      <td>1</td>\n",
       "      <td>0</td>\n",
       "      <td>2</td>\n",
       "      <td>40</td>\n",
       "      <td>0</td>\n",
       "      <td>0</td>\n",
       "      <td>0</td>\n",
       "      <td>517</td>\n",
       "      <td>0</td>\n",
       "      <td>0</td>\n",
       "      <td>6</td>\n",
       "      <td>1</td>\n",
       "      <td>0</td>\n",
       "    </tr>\n",
       "  </tbody>\n",
       "</table>\n",
       "</div>"
      ],
      "text/plain": [
       "Title   Capt  Col  Don  Dr  Jonkheer  Lady  Major  Master  Miss  Mlle  Mme  \\\n",
       "Sex                                                                          \n",
       "female     0    0    0   1         0     1      0       0   182     2    1   \n",
       "male       1    2    1   6         1     0      2      40     0     0    0   \n",
       "\n",
       "Title    Mr  Mrs  Ms  Rev  Sir  the Countess  \n",
       "Sex                                           \n",
       "female    0  125   1    0    0             1  \n",
       "male    517    0   0    6    1             0  "
      ]
     },
     "execution_count": 8,
     "metadata": {},
     "output_type": "execute_result"
    }
   ],
   "source": [
    "# Grab title from passenger names\n",
    "name_split = full['Name'].apply(lambda x: x.split(','))\n",
    "title_split = name_split.apply(lambda x: x[1].split('.')[0].strip())\n",
    "full['Title'] = title_split\n",
    "\n",
    "# Drop legacy column\n",
    "full.drop('Name', axis = 1, inplace = True)\n",
    "\n",
    "# Show title counts by sex\n",
    "pd.crosstab(full['Sex'], full['Title'])"
   ]
  },
  {
   "cell_type": "code",
   "execution_count": 9,
   "metadata": {},
   "outputs": [
    {
     "data": {
      "text/html": [
       "<div>\n",
       "<style scoped>\n",
       "    .dataframe tbody tr th:only-of-type {\n",
       "        vertical-align: middle;\n",
       "    }\n",
       "\n",
       "    .dataframe tbody tr th {\n",
       "        vertical-align: top;\n",
       "    }\n",
       "\n",
       "    .dataframe thead th {\n",
       "        text-align: right;\n",
       "    }\n",
       "</style>\n",
       "<table border=\"1\" class=\"dataframe\">\n",
       "  <thead>\n",
       "    <tr style=\"text-align: right;\">\n",
       "      <th>Title</th>\n",
       "      <th>Master</th>\n",
       "      <th>Miss</th>\n",
       "      <th>Mr</th>\n",
       "      <th>Mrs</th>\n",
       "      <th>Rare Title</th>\n",
       "    </tr>\n",
       "    <tr>\n",
       "      <th>Sex</th>\n",
       "      <th></th>\n",
       "      <th></th>\n",
       "      <th></th>\n",
       "      <th></th>\n",
       "      <th></th>\n",
       "    </tr>\n",
       "  </thead>\n",
       "  <tbody>\n",
       "    <tr>\n",
       "      <th>female</th>\n",
       "      <td>0</td>\n",
       "      <td>185</td>\n",
       "      <td>0</td>\n",
       "      <td>126</td>\n",
       "      <td>3</td>\n",
       "    </tr>\n",
       "    <tr>\n",
       "      <th>male</th>\n",
       "      <td>40</td>\n",
       "      <td>0</td>\n",
       "      <td>517</td>\n",
       "      <td>0</td>\n",
       "      <td>20</td>\n",
       "    </tr>\n",
       "  </tbody>\n",
       "</table>\n",
       "</div>"
      ],
      "text/plain": [
       "Title   Master  Miss   Mr  Mrs  Rare Title\n",
       "Sex                                       \n",
       "female       0   185    0  126           3\n",
       "male        40     0  517    0          20"
      ]
     },
     "execution_count": 9,
     "metadata": {},
     "output_type": "execute_result"
    }
   ],
   "source": [
    "# Titles with very low cell counts to be combined to \"rare\" level\n",
    "rare_title = ['Dona', 'Lady', 'the Countess', 'Capt', 'Col', 'Don',\n",
    "              'Dr', 'Major', 'Rev', 'Sir', 'Jonkheer']\n",
    "\n",
    "# Also reassign mlle, ms, and mme accordingly\n",
    "full.loc[full['Title'] == 'Mlle', 'Title'] = 'Miss'\n",
    "full.loc[full['Title'] == 'Ms', 'Title'] = 'Miss'\n",
    "full.loc[full['Title'] == 'Mme', 'Title'] = 'Mrs'\n",
    "full.loc[full['Title'].isin(rare_title), 'Title'] = 'Rare Title'\n",
    "\n",
    "# Show title counts by sex again\n",
    "pd.crosstab(full['Sex'], full['Title'])"
   ]
  },
  {
   "attachments": {},
   "cell_type": "markdown",
   "metadata": {},
   "source": [
    "## 2.2 Do families sink or swim together?\n",
    "\n",
    "Now that we've taken care of splitting passenger name into some new variables, we can take it a step further and make some new family variables. First we're going to make a **family size** variable based on number of siblings/spouse(s) (maybe someone has more than one spouse?) and number of children/parents. \n"
   ]
  },
  {
   "cell_type": "code",
   "execution_count": 10,
   "metadata": {},
   "outputs": [
    {
     "data": {
      "image/png": "[encoded data removed]",
      "text/plain": [
       "<Figure size 800x500 with 1 Axes>"
      ]
     },
     "metadata": {},
     "output_type": "display_data"
    }
   ],
   "source": [
    "# Create a family size variable including the passenger themselves\n",
    "full['Fsize'] = full['SibSp'] + full['Parch'] + 1\n",
    "\n",
    "# Filter the data for visualization\n",
    "filtered_data = full.loc[:890]  # Adjust the range if needed\n",
    "\n",
    "# Use seaborn to visualize the relationship between family size and survival\n",
    "sns.countplot(x='Fsize', hue='Survived', data=filtered_data, palette='viridis')\n",
    "\n",
    "# Set plot labels and layout\n",
    "plt.xlabel('Family Size')\n",
    "plt.tight_layout()\n",
    "\n",
    "# Display the plot\n",
    "plt.show()"
   ]
  },
  {
   "attachments": {},
   "cell_type": "markdown",
   "metadata": {},
   "source": [
    "Ah hah. We can see that there's a survival penalty to singletons and those with family sizes above 4. We can collapse this variable into three levels which will be helpful since there are comparatively fewer large families. Let's create a **discretized family size** variable.\n"
   ]
  },
  {
   "cell_type": "code",
   "execution_count": 11,
   "metadata": {},
   "outputs": [
    {
     "data": {
      "image/png": "[encoded data removed]",
      "text/plain": [
       "<Figure size 800x500 with 3 Axes>"
      ]
     },
     "metadata": {},
     "output_type": "display_data"
    }
   ],
   "source": [
    "# Discretize family size into categories\n",
    "full.loc[full['Fsize'] == 1, 'FsizeD'] = 'singleton'\n",
    "full.loc[(full['Fsize'] < 5) & (full['Fsize'] > 1), 'FsizeD'] = 'small'\n",
    "full.loc[full['Fsize'] > 4, 'FsizeD'] = 'large'\n",
    "\n",
    "# Filter the data for visualization\n",
    "filtered_data = full.loc[:890]  # Adjust the range if needed\n",
    "\n",
    "# Create a mosaic plot to show the relationship between family size and survival\n",
    "mosaic(filtered_data, ['FsizeD', 'Survived'], title='Family Size by Survival')\n",
    "\n",
    "# Display the plot\n",
    "plt.show()"
   ]
  },
  {
   "attachments": {},
   "cell_type": "markdown",
   "metadata": {},
   "source": [
    "## 2.3 Dummyfication\n",
    "\n",
    "Here Author creates some visualizations and dummy variables, but for some reason some binary variables (**Mother**, **Child**, **Sex**) have string values instead of integers. Our process is simplified.\n",
    "\n",
    "### 2.3.1 Child"
   ]
  },
  {
   "cell_type": "code",
   "execution_count": 12,
   "metadata": {},
   "outputs": [
    {
     "data": {
      "image/png": "[encoded data removed]",
      "text/plain": [
       "<Figure size 672.111x300 with 2 Axes>"
      ]
     },
     "metadata": {},
     "output_type": "display_data"
    }
   ],
   "source": [
    "# Plot the relationship between age and survival\n",
    "# Create a FacetGrid\n",
    "grid = sns.FacetGrid(full[:891], col='Sex', hue='Survived', palette='viridis')\n",
    "\n",
    "# Add a histogram to the grid\n",
    "_ = grid.map_dataframe(sns.histplot, x='Age', multiple=\"stack\", binwidth=5)\n",
    "\n",
    "# Add a legend to the grid\n",
    "_ = grid.add_legend()"
   ]
  },
  {
   "cell_type": "code",
   "execution_count": 13,
   "metadata": {},
   "outputs": [
    {
     "data": {
      "text/html": [
       "<div>\n",
       "<style scoped>\n",
       "    .dataframe tbody tr th:only-of-type {\n",
       "        vertical-align: middle;\n",
       "    }\n",
       "\n",
       "    .dataframe tbody tr th {\n",
       "        vertical-align: top;\n",
       "    }\n",
       "\n",
       "    .dataframe thead th {\n",
       "        text-align: right;\n",
       "    }\n",
       "</style>\n",
       "<table border=\"1\" class=\"dataframe\">\n",
       "  <thead>\n",
       "    <tr style=\"text-align: right;\">\n",
       "      <th>Survived</th>\n",
       "      <th>0.0</th>\n",
       "      <th>1.0</th>\n",
       "    </tr>\n",
       "    <tr>\n",
       "      <th>Child</th>\n",
       "      <th></th>\n",
       "      <th></th>\n",
       "    </tr>\n",
       "  </thead>\n",
       "  <tbody>\n",
       "    <tr>\n",
       "      <th>0.0</th>\n",
       "      <td>497</td>\n",
       "      <td>281</td>\n",
       "    </tr>\n",
       "    <tr>\n",
       "      <th>1.0</th>\n",
       "      <td>52</td>\n",
       "      <td>61</td>\n",
       "    </tr>\n",
       "  </tbody>\n",
       "</table>\n",
       "</div>"
      ],
      "text/plain": [
       "Survived  0.0  1.0\n",
       "Child             \n",
       "0.0       497  281\n",
       "1.0        52   61"
      ]
     },
     "execution_count": 13,
     "metadata": {},
     "output_type": "execute_result"
    }
   ],
   "source": [
    "# Create the column child, and indicate whether child or adult\n",
    "full.loc[full['Age'] < 18, 'Child'] = 1\n",
    "full.loc[full['Age'] >= 18, 'Child'] = 0\n",
    "\n",
    "# Show counts\n",
    "pd.crosstab(full['Child'], full['Survived'])"
   ]
  },
  {
   "attachments": {},
   "cell_type": "markdown",
   "metadata": {},
   "source": [
    "### 2.3.2 Mother"
   ]
  },
  {
   "cell_type": "code",
   "execution_count": 14,
   "metadata": {},
   "outputs": [
    {
     "data": {
      "text/html": [
       "<div>\n",
       "<style scoped>\n",
       "    .dataframe tbody tr th:only-of-type {\n",
       "        vertical-align: middle;\n",
       "    }\n",
       "\n",
       "    .dataframe tbody tr th {\n",
       "        vertical-align: top;\n",
       "    }\n",
       "\n",
       "    .dataframe thead th {\n",
       "        text-align: right;\n",
       "    }\n",
       "</style>\n",
       "<table border=\"1\" class=\"dataframe\">\n",
       "  <thead>\n",
       "    <tr style=\"text-align: right;\">\n",
       "      <th>Survived</th>\n",
       "      <th>0.0</th>\n",
       "      <th>1.0</th>\n",
       "    </tr>\n",
       "    <tr>\n",
       "      <th>Mother</th>\n",
       "      <th></th>\n",
       "      <th></th>\n",
       "    </tr>\n",
       "  </thead>\n",
       "  <tbody>\n",
       "    <tr>\n",
       "      <th>0.0</th>\n",
       "      <td>533</td>\n",
       "      <td>303</td>\n",
       "    </tr>\n",
       "    <tr>\n",
       "      <th>1.0</th>\n",
       "      <td>16</td>\n",
       "      <td>39</td>\n",
       "    </tr>\n",
       "  </tbody>\n",
       "</table>\n",
       "</div>"
      ],
      "text/plain": [
       "Survived  0.0  1.0\n",
       "Mother            \n",
       "0.0       533  303\n",
       "1.0        16   39"
      ]
     },
     "execution_count": 14,
     "metadata": {},
     "output_type": "execute_result"
    }
   ],
   "source": [
    "# Add a 'Mother' variable based on specific conditions\n",
    "full.loc[\n",
    "    (full['Sex'] == 'female') &\n",
    "    (full['Parch'] > 0) &\n",
    "    (full['Age'] > 18) &\n",
    "    (full['Title'] != 'Miss'),\n",
    "    'Mother'] = 1\n",
    "\n",
    "# Fill missing values in 'Mother' variable\n",
    "full['Mother'].fillna(0, inplace=True)\n",
    "\n",
    "# Show the counts of survival by the 'Mother' variable\n",
    "pd.crosstab(full['Mother'], full['Survived'])"
   ]
  },
  {
   "attachments": {},
   "cell_type": "markdown",
   "metadata": {},
   "source": [
    "### 2.3.3 Sex\n",
    "\n",
    "One binary variable `Male` is creted out of it."
   ]
  },
  {
   "cell_type": "code",
   "execution_count": 15,
   "metadata": {},
   "outputs": [],
   "source": [
    "# Create a dummy variable == 1 if 'male', 0 otherwise\n",
    "\n",
    "full['Male'] = (full['Sex'] == 'male').astype(int)"
   ]
  },
  {
   "attachments": {},
   "cell_type": "markdown",
   "metadata": {},
   "source": [
    "### 2.3.4 Removing unneccesary variables\n",
    "\n",
    "To keep code clear, the unncessesary columns are dropped right now."
   ]
  },
  {
   "cell_type": "code",
   "execution_count": 16,
   "metadata": {},
   "outputs": [],
   "source": [
    "# Define variables to be dropped\n",
    "variables_to_drop = ['Sex', 'SibSp', 'Parch', 'Ticket', 'Fsize']\n",
    "\n",
    "# Drop variables from the DataFrame\n",
    "full.drop(variables_to_drop, axis = 1, inplace = True)"
   ]
  },
  {
   "attachments": {},
   "cell_type": "markdown",
   "metadata": {},
   "source": [
    "### 2.3.5 Creating dummies\n",
    "\n",
    "Improved process allowed to decrease the number of dummified variables, thus cardinality of the model.  \n",
    "Author's approach lead to creating dummies such as **Sex_Female**, **Sex_Male**, **Child_Child**, **Child_Adult** and so on, which is nonsense.  \n",
    "Process is also done now without a loop."
   ]
  },
  {
   "cell_type": "code",
   "execution_count": 17,
   "metadata": {},
   "outputs": [],
   "source": [
    "# One Hot Encoding\n",
    "\n",
    "# Create a copy of the dataset\n",
    "encoded_data = full.copy()\n",
    "\n",
    "# List of columns to encode (will be useful for modelling according to authors)\n",
    "columns_to_encode = ['Pclass', 'Embarked', 'Title', 'FsizeD']\n",
    "\n",
    "# Create dummy variables out of those columns\n",
    "encoded_data = pd.get_dummies(encoded_data, columns = columns_to_encode, dtype = int)"
   ]
  },
  {
   "attachments": {},
   "cell_type": "markdown",
   "metadata": {},
   "source": [
    "# 4. Prediction\n",
    "\n",
    "Author uses here `Random Forest` classification algorithm. That is ok, but random state has to be declared to ensure reproducibility.  \n",
    "We also want to implement a robustness check - a cross-validation on the training subset.\n",
    "\n",
    "## 4.1 Creating train, validation and test sets"
   ]
  },
  {
   "cell_type": "code",
   "execution_count": 18,
   "metadata": {},
   "outputs": [],
   "source": [
    "# Split the data into train and test sets\n",
    "train = encoded_data[:623]\n",
    "test = encoded_data[623:]\n",
    "\n",
    "# Split the train and test sets into X (features) and y (target)\n",
    "X_train = train.drop('Survived', axis=1)\n",
    "y_train = train[\"Survived\"]\n",
    "\n",
    "X_test = test.drop('Survived', axis=1)\n",
    "y_test = test['Survived']"
   ]
  },
  {
   "attachments": {},
   "cell_type": "markdown",
   "metadata": {},
   "source": [
    "## 4.2 Cross-validation"
   ]
  },
  {
   "cell_type": "code",
   "execution_count": 19,
   "metadata": {},
   "outputs": [
    {
     "name": "stdout",
     "output_type": "stream",
     "text": [
      "5-fold cross-validation accuracy score: 0.81\n"
     ]
    }
   ],
   "source": [
    "cv_score = np.mean(\n",
    "    cross_val_score(\n",
    "    estimator = RandomForestClassifier(random_state = random_state),\n",
    "    X = X_train,\n",
    "    y = y_train,\n",
    "    scoring = 'accuracy',\n",
    "    cv = 5\n",
    "    )\n",
    ")\n",
    "\n",
    "print(f\"5-fold cross-validation accuracy score: {cv_score:.2f}\")"
   ]
  }
 ],
 "metadata": {
  "kernelspec": {
   "display_name": "RR",
   "language": "python",
   "name": "python3"
  },
  "language_info": {
   "codemirror_mode": {
    "name": "ipython",
    "version": 3
   },
   "file_extension": ".py",
   "mimetype": "text/x-python",
   "name": "python",
   "nbconvert_exporter": "python",
   "pygments_lexer": "ipython3",
   "version": "3.9.6"
  },
  "orig_nbformat": 4
 },
 "nbformat": 4,
 "nbformat_minor": 2
}
